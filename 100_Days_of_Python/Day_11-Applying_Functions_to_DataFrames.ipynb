{
 "cells": [
  {
   "cell_type": "code",
   "execution_count": null,
   "metadata": {
    "vscode": {
     "languageId": "plaintext"
    }
   },
   "outputs": [],
   "source": [
    "# Day 11: Applying Functions to DataFrames\n",
    "\n",
    "# Task:\n",
    "# You will work with a DataFrame containing employee information and their performance scores.\n",
    "# Your task is to apply custom functions to modify and analyze the data.\n",
    "\n",
    "# Here is the data you will work with:\n",
    "\n",
    "# | Name  | Job              | Salary | Performance Score |\n",
    "# |-------|------------------|--------|-------------------|\n",
    "# | John  | Programmer       | 58000  | 85                |\n",
    "# | Eva   | Analyst          | 64000  | 90                |\n",
    "# | Adam  | Data Scientist   | 72000  | 92                |\n",
    "# | Petra | Data Engineer    | 69000  | 88                |\n",
    "# | Mark  | Data Scientist   | 71000  | 91                |\n",
    "# | Alex  | Data Analyst      | 62000  | 87                |\n",
    "\n",
    "# Tasks:\n",
    "# 1. Load the DataFrame with the above data.\n",
    "# 2. Create a custom function to categorize employees based on their performance score:\n",
    "#    - Score >= 90: \"Excellent\"\n",
    "#    - 80 <= Score < 90: \"Good\"\n",
    "#    - Score < 80: \"Needs Improvement\"\n",
    "# 3. Apply the function to the 'Performance Score' column and create a new column called 'Performance Category'.\n",
    "# 4. Print the updated DataFrame with the new 'Performance Category' column.\n",
    "\n",
    "# Tips:\n",
    "# - Use `apply()` to apply a custom function to a column.\n",
    "# - You can define the function using `def` or `lambda`.\n",
    "\n",
    "# Bonus task:\n",
    "# Count how many employees fall into each performance category and print the result.\n"
   ]
  }
 ],
 "metadata": {
  "language_info": {
   "name": "python"
  }
 },
 "nbformat": 4,
 "nbformat_minor": 2
}
