{
 "cells": [
  {
   "cell_type": "code",
   "execution_count": null,
   "metadata": {},
   "outputs": [],
   "source": [
    "# Day 1: Introduction to Pandas – Basic DataFrame Operations\n",
    "\n",
    "# Task:\n",
    "# Create a Pandas DataFrame from the following data:\n",
    "\n",
    "# | Name  | Age | Job              | Salary |\n",
    "# |-------|-----|------------------|--------|\n",
    "# | John  | 28  | Programmer       | 58000  |\n",
    "# | Eva   | 34  | Analyst          | 64000  |\n",
    "# | Adam  | 30  | Data Scientist   | 72000  |\n",
    "# | Petra | 25  | Data Engineer    | 69000  |\n",
    "\n",
    "# Tasks:\n",
    "# 1. Print the first 5 rows of the DataFrame.\n",
    "# 2. Sort the DataFrame by salary in descending order.\n",
    "# 3. Create a new column called \"Bonus,\" which is 10% of each employee’s salary.\n",
    "# 4. Print only the columns \"Name\" and \"Salary.\"\n",
    "# 5. Save the DataFrame to a CSV file.\n",
    "\n",
    "# Tips:\n",
    "# - Use the `pandas` library to manipulate the data.\n",
    "# - You can save the CSV file using the `to_csv()` function.\n",
    "\n",
    "# Bonus task:\n",
    "# Find out how many employees have a salary higher than 60,000.\n",
    "\n",
    "######"
   ]
  },
  {
   "cell_type": "code",
   "execution_count": null,
   "metadata": {},
   "outputs": [],
   "source": [
    "\n",
    "import pandas as pd\n",
    "\n",
    "\n"
   ]
  },
  {
   "cell_type": "code",
   "execution_count": null,
   "metadata": {},
   "outputs": [],
   "source": [
    "# Data for the DataFrame\n",
    "data = {\n",
    "    'Name': ['John', 'Eva', 'Adam', 'Petra'],\n",
    "    'Age': [28, 34, 30, 25],\n",
    "    'Job': ['Programmer', 'Analyst', 'Data Scientist', 'Data Engineer'],\n",
    "    'Salary': [58000, 64000, 72000, 69000]\n",
    "}\n"
   ]
  },
  {
   "cell_type": "code",
   "execution_count": null,
   "metadata": {},
   "outputs": [],
   "source": [
    "# Creating the DataFrame\n",
    "df = pd.DataFrame(data)\n",
    "\n"
   ]
  },
  {
   "cell_type": "code",
   "execution_count": null,
   "metadata": {},
   "outputs": [],
   "source": [
    "# Task: 1. Print the first 5 rows of the DataFrame.\n",
    "print(df.head())\n"
   ]
  },
  {
   "cell_type": "code",
   "execution_count": null,
   "metadata": {},
   "outputs": [],
   "source": [
    "# Task: 2. Sort the DataFrame by salary in descending order.\n",
    "df.sort_values(ascending=False) # Descending\n"
   ]
  },
  {
   "cell_type": "code",
   "execution_count": null,
   "metadata": {},
   "outputs": [],
   "source": [
    "# Task: 3. Create a new column called \"Bonus,\" which is 10% of each employee’s salary.\n"
   ]
  },
  {
   "cell_type": "code",
   "execution_count": null,
   "metadata": {},
   "outputs": [],
   "source": [
    "# Task: 4. Print only the columns \"Name\" and \"Salary.\"\n",
    "\n",
    "\n"
   ]
  },
  {
   "cell_type": "code",
   "execution_count": null,
   "metadata": {},
   "outputs": [],
   "source": [
    "# Task: 5. Save the DataFrame to a CSV file.\n"
   ]
  }
 ],
 "metadata": {
  "language_info": {
   "name": "python"
  },
  "orig_nbformat": 4
 },
 "nbformat": 4,
 "nbformat_minor": 2
}
