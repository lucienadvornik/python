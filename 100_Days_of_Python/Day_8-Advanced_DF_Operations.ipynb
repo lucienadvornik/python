{
 "cells": [
  {
   "cell_type": "code",
   "execution_count": null,
   "metadata": {},
   "outputs": [],
   "source": [
    "# Day 8: Advanced DataFrame Operations\n",
    "\n",
    "# Task:\n",
    "# You will work with a DataFrame containing employee details, including their job titles, salaries, and departments.\n",
    "# Your task is to perform various advanced operations on the DataFrame.\n",
    "\n",
    "# Here is the data you will work with:\n",
    "\n",
    "# | Name  | Job              | Salary | Department   |\n",
    "# |-------|------------------|--------|--------------|\n",
    "# | John  | Programmer       | 58000  | IT           |\n",
    "# | Eva   | Analyst          | 64000  | Finance      |\n",
    "# | Adam  | Data Scientist   | 72000  | Data Science  |\n",
    "# | Petra | Data Engineer    | 69000  | IT           |\n",
    "# | Mark  | Data Scientist    | 71000  | Data Science  |\n",
    "# | Alex  | Data Analyst      | 62000  | Finance      |\n",
    "\n",
    "# Tasks:\n",
    "# 1. Load the DataFrame with the above data.\n",
    "# 2. Group the DataFrame by 'Department' and calculate the average salary for each department.\n",
    "# 3. Identify the department with the highest average salary and print it.\n",
    "# 4. Create a new column 'Salary Increase' which shows the percentage increase in salary compared to the average salary of their department.\n",
    "# 5. Print the updated DataFrame with the new 'Salary Increase' column.\n",
    "\n",
    "# Tips:\n",
    "# - Use `groupby()` to group the DataFrame by department.\n",
    "# - Use `mean()` to calculate average salaries.\n",
    "# - Use `idxmax()` to find the department with the highest average salary.\n",
    "# - Use a formula to calculate percentage increase: `((current_salary - average_salary) / average_salary) * 100`.\n",
    "\n",
    "# Bonus task:\n",
    "# Create a bar chart to visualize the average salary for each department.\n"
   ]
  },
  {
   "cell_type": "code",
   "execution_count": null,
   "metadata": {},
   "outputs": [],
   "source": [
    "# Import libraries\n",
    "import pandas as pd\n",
    "from pandas.core.computation.check import NUMEXPR_INSTALLED"
   ]
  }
 ],
 "metadata": {
  "kernelspec": {
   "display_name": "base",
   "language": "python",
   "name": "python3"
  },
  "language_info": {
   "name": "python",
   "version": "3.8.20"
  }
 },
 "nbformat": 4,
 "nbformat_minor": 2
}
