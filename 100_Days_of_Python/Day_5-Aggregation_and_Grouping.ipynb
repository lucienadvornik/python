{
 "cells": [
  {
   "cell_type": "code",
   "execution_count": null,
   "metadata": {},
   "outputs": [],
   "source": [
    "# Day 5: Aggregation and Grouping with Multiple Criteria\n",
    "\n",
    "# Task:\n",
    "# You will work with a DataFrame containing employee information, similar to the previous tasks.\n",
    "# Your task is to perform more complex aggregations and grouping based on multiple criteria.\n",
    "\n",
    "# Here is the data you will work with:\n",
    "\n",
    "# | Name  | Age | Job              | Salary | Experience |\n",
    "# |-------|-----|------------------|--------|------------|\n",
    "# | John  | 28  | Programmer       | 58000  | 3          |\n",
    "# | Eva   | 34  | Analyst          | 64000  | 6          |\n",
    "# | Adam  | 30  | Data Scientist   | 72000  | 5          |\n",
    "# | Petra | 25  | Data Engineer    | 69000  | 4          |\n",
    "# | Mark  | 29  | Data Scientist   | 71000  | 4          |\n",
    "\n",
    "# Tasks:\n",
    "# 1. Load the DataFrame with the given data.\n",
    "# 2. Group the data by both the 'Job' and 'Experience' columns.\n",
    "# 3. For each group, calculate the average salary and the total number of employees.\n",
    "# 4. Print the resulting grouped DataFrame with these aggregated values.\n",
    "\n",
    "# Tips:\n",
    "# - Use `groupby()` to group by multiple columns.\n",
    "# - Use `agg()` to apply multiple aggregation functions like 'mean' and 'count'.\n",
    "# - Use `reset_index()` if needed to flatten the groupby object for easier readability.\n",
    "\n",
    "# Bonus Task:\n",
    "# After grouping, find the group with the highest average salary and print it.\n"
   ]
  },
  {
   "cell_type": "code",
   "execution_count": 1,
   "metadata": {},
   "outputs": [
    {
     "name": "stderr",
     "output_type": "stream",
     "text": [
      "/Users/lucie/opt/anaconda3/lib/python3.8/site-packages/pandas/core/computation/expressions.py:20: UserWarning: Pandas requires version '2.7.3' or newer of 'numexpr' (version '2.7.1' currently installed).\n",
      "  from pandas.core.computation.check import NUMEXPR_INSTALLED\n"
     ]
    }
   ],
   "source": [
    "# import libraries\n",
    "import pandas as pd\n",
    "from pandas.core.computation.check import NUMEXPR_INSTALLED"
   ]
  },
  {
   "cell_type": "code",
   "execution_count": 2,
   "metadata": {},
   "outputs": [],
   "source": [
    "# Task: 1. Load the DataFrame with the given data.\n",
    "# Data for the DataFrame\n",
    "data = {\n",
    "    'Name': ['John', 'Eva', 'Adam', 'Petra', 'Mark'],\n",
    "    'Age': [28, 34 , 30, 25, 29 ],\n",
    "    'Job': ['Programmer', 'Analyst', 'Data Scientist' , 'Data Engineer', 'Data Scientist'],\n",
    "    'Salary': [58000, 64000, 72000, 69000 , 71000],\n",
    "    'Experience': [3, 6, 5, 4, 4]\n",
    "}\n",
    "\n",
    "# Creating the DataFrame\n",
    "df = pd.DataFrame(data)\n",
    "#print(df)"
   ]
  },
  {
   "cell_type": "code",
   "execution_count": 6,
   "metadata": {},
   "outputs": [
    {
     "name": "stdout",
     "output_type": "stream",
     "text": [
      "<pandas.core.groupby.generic.DataFrameGroupBy object at 0x12fd0b9d0>\n",
      "<pandas.core.groupby.generic.DataFrameGroupBy object at 0x12fbf53d0>\n"
     ]
    }
   ],
   "source": [
    "# Task: 2. Group the data by both the 'Job' and 'Experience' columns.\n",
    "# Group by job\n",
    "grouped_by_job = df.groupby(df['Job'])\n",
    "#grouped_by_job2 = df.groupby('Job')\n",
    "\n",
    "# Group by experience\n",
    "grouped_by_experience = df.groupby('Experience')\n",
    "# grouped_by_experience2 = df.groupby(df['Experience'])\n",
    "print(grouped_by_job)\n",
    "print(grouped_by_experience)\n"
   ]
  },
  {
   "cell_type": "code",
   "execution_count": 14,
   "metadata": {},
   "outputs": [],
   "source": [
    "# Task: 3. For each group, calculate the average salary and the total number of employees.\n",
    "grouped_df = df.groupby('Job').agg(            # using the groupby and .agg\n",
    "    Average_Salary=('Salary', 'mean'),      # new column Average_Salary calculated as mean of salary\n",
    "    Employee_Count=('Name', 'count')        # new column Employee_Count calculated as count of Names\n",
    ")"
   ]
  },
  {
   "cell_type": "code",
   "execution_count": 15,
   "metadata": {},
   "outputs": [
    {
     "name": "stdout",
     "output_type": "stream",
     "text": [
      "                Average_Salary  Employee_Count\n",
      "Job                                           \n",
      "Analyst                64000.0               1\n",
      "Data Engineer          69000.0               1\n",
      "Data Scientist         71500.0               2\n",
      "Programmer             58000.0               1\n"
     ]
    }
   ],
   "source": [
    "# Task: 4. Print the resulting grouped DataFrame with these aggregated values.\n",
    "print(grouped_df)"
   ]
  },
  {
   "cell_type": "code",
   "execution_count": 24,
   "metadata": {},
   "outputs": [
    {
     "name": "stdout",
     "output_type": "stream",
     "text": [
      "Average_Salary    71500.0\n",
      "Employee_Count        2.0\n",
      "Name: Data Scientist, dtype: float64\n"
     ]
    }
   ],
   "source": [
    "# Bonus task:\n",
    "# After grouping, find the group with the highest average salary and print it.\n",
    "highest_avg_salary = grouped_df.loc[grouped_df['Average_Salary'].idxmax()]\n",
    "print(highest_avg_salary)"
   ]
  }
 ],
 "metadata": {
  "kernelspec": {
   "display_name": "base",
   "language": "python",
   "name": "python3"
  },
  "language_info": {
   "codemirror_mode": {
    "name": "ipython",
    "version": 3
   },
   "file_extension": ".py",
   "mimetype": "text/x-python",
   "name": "python",
   "nbconvert_exporter": "python",
   "pygments_lexer": "ipython3",
   "version": "3.8.20"
  }
 },
 "nbformat": 4,
 "nbformat_minor": 2
}
