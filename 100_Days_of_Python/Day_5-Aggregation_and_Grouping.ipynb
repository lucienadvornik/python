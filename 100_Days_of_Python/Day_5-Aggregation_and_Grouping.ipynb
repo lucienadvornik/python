{
 "cells": [
  {
   "cell_type": "code",
   "execution_count": null,
   "metadata": {
    "vscode": {
     "languageId": "plaintext"
    }
   },
   "outputs": [],
   "source": [
    "# Day 5: Aggregation and Grouping with Multiple Criteria\n",
    "\n",
    "# Task:\n",
    "# You will work with a DataFrame containing employee information, similar to the previous tasks.\n",
    "# Your task is to perform more complex aggregations and grouping based on multiple criteria.\n",
    "\n",
    "# Here is the data you will work with:\n",
    "\n",
    "# | Name  | Age | Job              | Salary | Experience |\n",
    "# |-------|-----|------------------|--------|------------|\n",
    "# | John  | 28  | Programmer       | 58000  | 3          |\n",
    "# | Eva   | 34  | Analyst          | 64000  | 6          |\n",
    "# | Adam  | 30  | Data Scientist   | 72000  | 5          |\n",
    "# | Petra | 25  | Data Engineer    | 69000  | 4          |\n",
    "# | Mark  | 29  | Data Scientist   | 71000  | 4          |\n",
    "\n",
    "# Tasks:\n",
    "# 1. Load the DataFrame with the given data.\n",
    "# 2. Group the data by both the 'Job' and 'Experience' columns.\n",
    "# 3. For each group, calculate the average salary and the total number of employees.\n",
    "# 4. Print the resulting grouped DataFrame with these aggregated values.\n",
    "\n",
    "# Tips:\n",
    "# - Use `groupby()` to group by multiple columns.\n",
    "# - Use `agg()` to apply multiple aggregation functions like 'mean' and 'count'.\n",
    "# - Use `reset_index()` if needed to flatten the groupby object for easier readability.\n",
    "\n",
    "# Bonus Task:\n",
    "# After grouping, find the group with the highest average salary and print it.\n"
   ]
  }
 ],
 "metadata": {
  "language_info": {
   "name": "python"
  }
 },
 "nbformat": 4,
 "nbformat_minor": 2
}
