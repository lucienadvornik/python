{
 "cells": [
  {
   "cell_type": "code",
   "execution_count": null,
   "metadata": {
    "vscode": {
     "languageId": "plaintext"
    }
   },
   "outputs": [],
   "source": [
    "# Day 7: Merging DataFrames and Handling Duplicates\n",
    "\n",
    "# Task:\n",
    "# You will work with two DataFrames containing employee information. \n",
    "# Your task is to merge these DataFrames and handle any duplicate records.\n",
    "\n",
    "# Here are the data sets you will work with:\n",
    "\n",
    "# DataFrame 1:\n",
    "# | Name  | Job              | Salary |\n",
    "# |-------|------------------|--------|\n",
    "# | John  | Programmer       | 58000  |\n",
    "# | Eva   | Analyst          | 64000  |\n",
    "# | Adam  | Data Scientist   | 72000  |\n",
    "# | Petra | Data Engineer    | 69000  |\n",
    "\n",
    "# DataFrame 2:\n",
    "# | Name  | Job              | Hire Date  |\n",
    "# |-------|------------------|------------|\n",
    "# | Adam  | Data Scientist   | 2014-11-03 |\n",
    "# | Mark  | Data Scientist   | 2017-05-30 |\n",
    "# | Eva   | Analyst          | 2018-09-10 |\n",
    "# | John  | Programmer       | 2015-06-15 |\n",
    "\n",
    "# Tasks:\n",
    "# 1. Load both DataFrames.\n",
    "# 2. Merge the DataFrames on the 'Name' column to combine employee information (Job, Salary, and Hire Date).\n",
    "# 3. Identify and remove any duplicate rows from the merged DataFrame, if present.\n",
    "# 4. Sort the DataFrame by 'Salary' in descending order.\n",
    "# 5. Print the cleaned and sorted DataFrame.\n",
    "\n",
    "# Tips:\n",
    "# - Use `pd.merge()` to merge DataFrames.\n",
    "# - Use `drop_duplicates()` to remove duplicates.\n",
    "# - Use `sort_values()` to sort the DataFrame by salary.\n",
    "\n",
    "# Bonus task:\n",
    "# After merging, identify if there are any missing values in the 'Hire Date' column, \n",
    "# and fill them with the value \"Unknown\".\n"
   ]
  }
 ],
 "metadata": {
  "language_info": {
   "name": "python"
  }
 },
 "nbformat": 4,
 "nbformat_minor": 2
}
