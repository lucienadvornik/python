{
 "cells": [
  {
   "cell_type": "code",
   "execution_count": null,
   "metadata": {},
   "outputs": [],
   "source": [
    "# Day 7: Merging DataFrames and Handling Duplicates\n",
    "\n",
    "# Task:\n",
    "# You will work with two DataFrames containing employee information. \n",
    "# Your task is to merge these DataFrames and handle any duplicate records.\n",
    "\n",
    "# Here are the data sets you will work with:\n",
    "\n",
    "# DataFrame 1:\n",
    "# | Name  | Job              | Salary |\n",
    "# |-------|------------------|--------|\n",
    "# | John  | Programmer       | 58000  |\n",
    "# | Eva   | Analyst          | 64000  |\n",
    "# | Adam  | Data Scientist   | 72000  |\n",
    "# | Petra | Data Engineer    | 69000  |\n",
    "\n",
    "# DataFrame 2:\n",
    "# | Name  | Job              | Hire Date  |\n",
    "# |-------|------------------|------------|\n",
    "# | Adam  | Data Scientist   | 2014-11-03 |\n",
    "# | Mark  | Data Scientist   | 2017-05-30 |\n",
    "# | Eva   | Analyst          | 2018-09-10 |\n",
    "# | John  | Programmer       | 2015-06-15 |\n",
    "\n",
    "# Tasks:\n",
    "# 1. Load both DataFrames.\n",
    "# 2. Merge the DataFrames on the 'Name' column to combine employee information (Job, Salary, and Hire Date).\n",
    "# 3. Identify and remove any duplicate rows from the merged DataFrame, if present.\n",
    "# 4. Sort the DataFrame by 'Salary' in descending order.\n",
    "# 5. Print the cleaned and sorted DataFrame.\n",
    "\n",
    "# Tips:\n",
    "# - Use `pd.merge()` to merge DataFrames.\n",
    "# - Use `drop_duplicates()` to remove duplicates.\n",
    "# - Use `sort_values()` to sort the DataFrame by salary.\n",
    "\n",
    "# Bonus task:\n",
    "# After merging, identify if there are any missing values in the 'Hire Date' column, \n",
    "# and fill them with the value \"Unknown\".\n"
   ]
  },
  {
   "cell_type": "code",
   "execution_count": 2,
   "metadata": {},
   "outputs": [],
   "source": [
    "# Import libraries\n",
    "import pandas as pd\n",
    "from pandas.core.computation.check import NUMEXPR_INSTALLED"
   ]
  }
 ],
 "metadata": {
  "kernelspec": {
   "display_name": "base",
   "language": "python",
   "name": "python3"
  },
  "language_info": {
   "codemirror_mode": {
    "name": "ipython",
    "version": 3
   },
   "file_extension": ".py",
   "mimetype": "text/x-python",
   "name": "python",
   "nbconvert_exporter": "python",
   "pygments_lexer": "ipython3",
   "version": "3.8.20"
  }
 },
 "nbformat": 4,
 "nbformat_minor": 2
}
