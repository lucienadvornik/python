# Day 7: Merging DataFrames and Handling Duplicates

# Task:
# You will work with two DataFrames containing employee information. 
# Your task is to merge these DataFrames and handle any duplicate records.

# Here are the data sets you will work with:

# DataFrame 1:
# | Name  | Job              | Salary |
# |-------|------------------|--------|
# | John  | Programmer       | 58000  |
# | Eva   | Analyst          | 64000  |
# | Adam  | Data Scientist   | 72000  |
# | Petra | Data Engineer    | 69000  |

# DataFrame 2:
# | Name  | Job              | Hire Date  |
# |-------|------------------|------------|
# | Adam  | Data Scientist   | 2014-11-03 |
# | Mark  | Data Scientist   | 2017-05-30 |
# | Eva   | Analyst          | 2018-09-10 |
# | John  | Programmer       | 2015-06-15 |

# Tasks:
# 1. Load both DataFrames.
# 2. Merge the DataFrames on the 'Name' column to combine employee information (Job, Salary, and Hire Date).
# 3. Identify and remove any duplicate rows from the merged DataFrame, if present.
# 4. Sort the DataFrame by 'Salary' in descending order.
# 5. Print the cleaned and sorted DataFrame.

# Tips:
# - Use `pd.merge()` to merge DataFrames.
# - Use `drop_duplicates()` to remove duplicates.
# - Use `sort_values()` to sort the DataFrame by salary.

# Bonus task:
# After merging, identify if there are any missing values in the 'Hire Date' column, 
# and fill them with the value "Unknown".
