{
 "cells": [
  {
   "cell_type": "code",
   "execution_count": null,
   "metadata": {},
   "outputs": [],
   "source": [
    "# Day 3: Filtering and Aggregating Employee Data using Pandas\n",
    "\n",
    "# Task:\n",
    "# You will work with a DataFrame containing employee information.\n",
    "# Your task is to filter the data and perform aggregation on the salaries.\n",
    "\n",
    "# Here is the data you will work with:\n",
    "\n",
    "# | Name  | Age | Job              | Salary |\n",
    "# |-------|-----|------------------|--------|\n",
    "# | John  | 28  | Programmer       | 58000  |\n",
    "# | Eva   | 34  | Analyst          | 64000  |\n",
    "# | Adam  | 30  | Data Scientist   | 72000  |\n",
    "# | Petra | 25  | Data Engineer    | 69000  |\n",
    "# | Mark  | 29  | Data Scientist   | 71000  |\n",
    "\n",
    "# Tasks:\n",
    "# 1. Filter the DataFrame to include only employees with a salary greater than 65,000.\n",
    "# 2. Calculate the total salary of these employees.\n",
    "# 3. Calculate the average salary of these employees.\n",
    "# 4. Sort the filtered DataFrame by the \"Salary\" column in descending order.\n",
    "# 5. Print the filtered and sorted DataFrame along with total and average salary.\n",
    "\n",
    "# Tips:\n",
    "# - Use `df[df['Salary'] > 65000]` to filter the DataFrame.\n",
    "# - Use `sum()` to calculate the total salary.\n",
    "# - Use `mean()` to calculate the average salary.\n",
    "# - Use `sort_values()` to sort the DataFrame by salary.\n",
    "\n",
    "# Bonus task:\n",
    "# After filtering, identify how many employees have salaries above 70,000."
   ]
  },
  {
   "cell_type": "code",
   "execution_count": 3,
   "metadata": {},
   "outputs": [],
   "source": [
    "import pandas as pd\n",
    "from pandas.core.computation.check import NUMEXPR_INSTALLED"
   ]
  },
  {
   "cell_type": "code",
   "execution_count": 4,
   "metadata": {},
   "outputs": [],
   "source": [
    "# Data for the DataFrame\n",
    "data = {\n",
    "    'Name': ['John', 'Eva', 'Adam', 'Petra', 'Mark'],\n",
    "    'Age': [28, 34 , 30, 25, 29 ],\n",
    "    'Job': ['Programmer', 'Analyst', 'Data Scientist' , 'Data Engineer', 'Data Scientist'],\n",
    "    'Salary': [58000, 64000, 72000, 69000 , 71000]\n",
    "}\n",
    "\n",
    "# Creating the DataFrame\n",
    "df = pd.DataFrame(data)"
   ]
  },
  {
   "cell_type": "code",
   "execution_count": 14,
   "metadata": {},
   "outputs": [
    {
     "name": "stdout",
     "output_type": "stream",
     "text": [
      "   Name  Age             Job  Salary\n",
      "0  John   28      Programmer   58000\n",
      "1   Eva   34         Analyst   64000\n",
      "2  Adam   30  Data Scientist   72000\n"
     ]
    }
   ],
   "source": [
    "print(df.head(3))"
   ]
  },
  {
   "cell_type": "code",
   "execution_count": 22,
   "metadata": {},
   "outputs": [
    {
     "name": "stdout",
     "output_type": "stream",
     "text": [
      "    Name  Age             Job  Salary\n",
      "2   Adam   30  Data Scientist   72000\n",
      "3  Petra   25   Data Engineer   69000\n",
      "4   Mark   29  Data Scientist   71000\n"
     ]
    }
   ],
   "source": [
    "# Task: 1. Filter the DataFrame to include only employees with a salary greater than 65,000.\n",
    "filtered_df = df[df['Salary'] > 65000]\n",
    "print(filtered_df)"
   ]
  },
  {
   "cell_type": "code",
   "execution_count": 34,
   "metadata": {},
   "outputs": [],
   "source": [
    "# Task: 2. Calculate the total salary of these employees.\n",
    "total_salary = sum(filtered_df['Salary'])"
   ]
  },
  {
   "cell_type": "code",
   "execution_count": 36,
   "metadata": {},
   "outputs": [],
   "source": [
    "# Task: 3. Calculate the average salary of these employees.\n",
    "average_salary = filtered_df['Salary'].mean()"
   ]
  },
  {
   "cell_type": "code",
   "execution_count": 31,
   "metadata": {},
   "outputs": [],
   "source": [
    "# Task: 4. Sort the filtered DataFrame by the \"Salary\" column in descending order.\n",
    "sorted_filtered_df = filtered_df.sort_values(['Salary'], ascending=False)\n",
    "# Other option: top_salaries = filtered_df.nlargest(n=5, columns='Salary')"
   ]
  },
  {
   "cell_type": "code",
   "execution_count": 37,
   "metadata": {},
   "outputs": [
    {
     "name": "stdout",
     "output_type": "stream",
     "text": [
      "    Name  Age             Job  Salary\n",
      "2   Adam   30  Data Scientist   72000\n",
      "4   Mark   29  Data Scientist   71000\n",
      "3  Petra   25   Data Engineer   69000\n",
      "212000\n",
      "70666.66666666667\n"
     ]
    }
   ],
   "source": [
    "# Task: 5. Print the filtered and sorted DataFrame along with total and average salary.\n",
    "print(sorted_filtered_df)\n",
    "print(total_salary)\n",
    "print(average_salary)"
   ]
  },
  {
   "cell_type": "code",
   "execution_count": 40,
   "metadata": {},
   "outputs": [
    {
     "data": {
      "text/plain": [
       "2"
      ]
     },
     "execution_count": 40,
     "metadata": {},
     "output_type": "execute_result"
    }
   ],
   "source": [
    "# Bonus task:\n",
    "# After filtering, identify how many employees have salaries above 70,000.\n",
    "sorted_filtered_df[sorted_filtered_df['Salary'] >70000].shape[0] # .shape gives tuple with count of rows and columns, [0] = rows\n"
   ]
  }
 ],
 "metadata": {
  "kernelspec": {
   "display_name": "base",
   "language": "python",
   "name": "python3"
  },
  "language_info": {
   "codemirror_mode": {
    "name": "ipython",
    "version": 3
   },
   "file_extension": ".py",
   "mimetype": "text/x-python",
   "name": "python",
   "nbconvert_exporter": "python",
   "pygments_lexer": "ipython3",
   "version": "3.8.20"
  }
 },
 "nbformat": 4,
 "nbformat_minor": 2
}
