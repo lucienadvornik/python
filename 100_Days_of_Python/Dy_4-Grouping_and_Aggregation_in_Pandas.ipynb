{
 "cells": [
  {
   "cell_type": "code",
   "execution_count": null,
   "metadata": {},
   "outputs": [],
   "source": [
    "# Day 4: Working with Grouping and Aggregation in Pandas\n",
    "\n",
    "# Task:\n",
    "# You will work with a DataFrame containing employee data, and your task is to perform grouping and aggregation operations.\n",
    "\n",
    "# Here is the data you will work with:\n",
    "\n",
    "# | Name  | Age | Job              | Salary |\n",
    "# |-------|-----|------------------|--------|\n",
    "# | John  | 28  | Programmer       | 58000  |\n",
    "# | Eva   | 34  | Analyst          | 64000  |\n",
    "# | Adam  | 30  | Data Scientist   | 72000  |\n",
    "# | Petra | 25  | Data Engineer    | 69000  |\n",
    "# | Mark  | 29  | Data Scientist   | 71000  |\n",
    "# | Lucy  | 35  | Programmer       | 60000  |\n",
    "# | Mike  | 32  | Data Scientist   | 75000  |\n",
    "\n",
    "# Tasks:\n",
    "# 1. Group the employees by their \"Job\" titles.\n",
    "# 2. Calculate the average salary for each job title.\n",
    "# 3. Count how many employees are in each job category.\n",
    "# 4. Print the grouped DataFrame, showing both the average salary and employee count for each job.\n",
    "\n",
    "# Tips:\n",
    "# - Use `groupby()` to group data by a specific column.\n",
    "# - Use `agg()` to perform multiple aggregation functions.\n",
    "# - Use `size()` to count the number of employees in each group.\n",
    "\n",
    "# Bonus task:\n",
    "# Find the job title with the highest average salary and print it.\n"
   ]
  },
  {
   "cell_type": "code",
   "execution_count": null,
   "metadata": {},
   "outputs": [],
   "source": [
    "# import libraries\n",
    "import pandas as pd\n",
    "from pandas.core.computation.check import NUMEXPR_INSTALLED"
   ]
  },
  {
   "cell_type": "code",
   "execution_count": null,
   "metadata": {},
   "outputs": [],
   "source": [
    "# Data for the DataFrame\n",
    "data = {\n",
    "    'Name': ['John', 'Eva', 'Adam', 'Petra', 'Mark', 'Lucy', 'Mike'],\n",
    "    'Age': [28, 34 , 30, 25, 29, 35, 32 ],\n",
    "    'Job': ['Programmer', 'Analyst', 'Data Scientist' , 'Data Engineer', 'Data Scientist', 'Programmer', 'Data Scientist'],\n",
    "    'Salary': [58000, 64000, 72000, 69000 , 71000, 60000, 75000]\n",
    "}\n",
    "\n",
    "# Creating the DataFrame\n",
    "df = pd.DataFrame(data)"
   ]
  },
  {
   "cell_type": "code",
   "execution_count": null,
   "metadata": {},
   "outputs": [],
   "source": []
  }
 ],
 "metadata": {
  "kernelspec": {
   "display_name": "base",
   "language": "python",
   "name": "python3"
  },
  "language_info": {
   "name": "python",
   "version": "3.8.20"
  }
 },
 "nbformat": 4,
 "nbformat_minor": 2
}
