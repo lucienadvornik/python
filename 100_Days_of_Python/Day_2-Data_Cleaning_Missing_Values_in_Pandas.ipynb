{
 "cells": [
  {
   "cell_type": "code",
   "execution_count": 1,
   "metadata": {},
   "outputs": [],
   "source": [
    "#### 100 DAYS OF PYTHON #### \n",
    "# Day 2: Data Cleaning and Missing Values in Pandas\n",
    "\n",
    "# Task:\n",
    "# You will work with a DataFrame containing some missing data (NaN values).\n",
    "# Your task is to clean the data and handle the missing values.\n",
    "\n",
    "# Here is the data you will work with:\n",
    "\n",
    "# | Name  | Age | Job              | Salary |\n",
    "# |-------|-----|------------------|--------|\n",
    "# | John  | 28  | Programmer       | 58000  |\n",
    "# | Eva   | NaN | Analyst          | 64000  |\n",
    "# | Adam  | 30  | NaN              | 72000  |\n",
    "# | Petra | 25  | Data Engineer    | NaN    |\n",
    "# | Mark  | NaN | Data Scientist   | 71000  |\n",
    "\n",
    "# Tasks:\n",
    "# 1. Load the DataFrame with the above data.\n",
    "# 2. Detect which rows have missing values (NaN).\n",
    "# 3. Replace missing \"Age\" values with the mean age of the available data.\n",
    "# 4. Replace missing \"Job\" values with a placeholder, e.g., \"Unknown\".\n",
    "# 5. Drop any rows where the \"Salary\" value is missing.\n",
    "# 6. Print the cleaned DataFrame.\n",
    "\n",
    "# Tips:\n",
    "# - Use `isnull()` to detect missing values.\n",
    "# - Use `fillna()` to replace missing values.\n",
    "# - Use `dropna()` to drop rows with missing values.\n",
    "\n",
    "# Bonus task:\n",
    "# After cleaning the data, calculate the average salary of all employees.\n"
   ]
  },
  {
   "cell_type": "code",
   "execution_count": 3,
   "metadata": {},
   "outputs": [],
   "source": [
    "import pandas as pd\n",
    "from pandas.core.computation.check import NUMEXPR_INSTALLED"
   ]
  },
  {
   "cell_type": "code",
   "execution_count": 22,
   "metadata": {},
   "outputs": [],
   "source": [
    "# Data for the DataFrame\n",
    "data = {\n",
    "    'Name': ['John', 'Eva', 'Adam', 'Petra', 'Mark'],\n",
    "    'Age': [28, None , 30, 25, None ],\n",
    "    'Job': ['Programmer', 'Analyst', None , 'Data Engineer', 'Data Scientist'],\n",
    "    'Salary': [58000, 64000, 72000, None , 71000]\n",
    "}\n",
    "\n",
    "# Creating the DataFrame\n",
    "df = pd.DataFrame(data)"
   ]
  },
  {
   "cell_type": "code",
   "execution_count": 23,
   "metadata": {},
   "outputs": [
    {
     "name": "stdout",
     "output_type": "stream",
     "text": [
      "    Name   Age             Job   Salary\n",
      "0   John  28.0      Programmer  58000.0\n",
      "1    Eva   NaN         Analyst  64000.0\n",
      "2   Adam  30.0            None  72000.0\n",
      "3  Petra  25.0   Data Engineer      NaN\n",
      "4   Mark   NaN  Data Scientist  71000.0\n"
     ]
    }
   ],
   "source": [
    "# Task: 1. Print the first 5 rows of the DataFrame.\n",
    "print(df.head())"
   ]
  },
  {
   "cell_type": "code",
   "execution_count": 24,
   "metadata": {},
   "outputs": [
    {
     "name": "stdout",
     "output_type": "stream",
     "text": [
      "    Name   Age             Job   Salary\n",
      "0   John  28.0      Programmer  58000.0\n",
      "1    Eva   NaN         Analyst  64000.0\n",
      "2   Adam  30.0            None  72000.0\n",
      "3  Petra  25.0   Data Engineer      NaN\n",
      "4   Mark   NaN  Data Scientist  71000.0\n"
     ]
    }
   ],
   "source": [
    "# 1. Load the DataFrame with the above data.\n",
    "print(df)"
   ]
  },
  {
   "cell_type": "code",
   "execution_count": 25,
   "metadata": {},
   "outputs": [
    {
     "name": "stdout",
     "output_type": "stream",
     "text": [
      "    Name    Age    Job  Salary\n",
      "0  False  False  False   False\n",
      "1  False   True  False   False\n",
      "2  False  False   True   False\n",
      "3  False  False  False    True\n",
      "4  False   True  False   False\n"
     ]
    }
   ],
   "source": [
    "# 2. Detect which rows have missing values (NaN).\n",
    "missing_values = df.isnull()\n",
    "print(missing_values)\n"
   ]
  },
  {
   "cell_type": "code",
   "execution_count": 29,
   "metadata": {},
   "outputs": [
    {
     "name": "stdout",
     "output_type": "stream",
     "text": [
      "    Name        Age             Job   Salary\n",
      "0   John  28.000000      Programmer  58000.0\n",
      "1    Eva  27.666667         Analyst  64000.0\n",
      "2   Adam  30.000000            None  72000.0\n",
      "3  Petra  25.000000   Data Engineer      NaN\n",
      "4   Mark  27.666667  Data Scientist  71000.0\n"
     ]
    }
   ],
   "source": [
    "# 3. Replace missing \"Age\" values with the mean age of the available data.\n",
    "mean_age = df['Age'].mean()\n",
    "df['Age'].fillna(mean_age, inplace=True)\n",
    "print(df)"
   ]
  },
  {
   "cell_type": "code",
   "execution_count": 43,
   "metadata": {},
   "outputs": [
    {
     "name": "stdout",
     "output_type": "stream",
     "text": [
      "   Name        Age             Job   Salary\n",
      "0  John  28.000000      Programmer  58000.0\n",
      "1   Eva  27.666667         Analyst  64000.0\n",
      "2  Adam  30.000000         Unknown  72000.0\n",
      "4  Mark  27.666667  Data Scientist  71000.0\n"
     ]
    }
   ],
   "source": [
    "# 4. Replace missing \"Job\" values with a placeholder, e.g., \"Unknown\".\n",
    "df['Job'].fillna('Unknown', inplace = True)\n",
    "print(df)# Tips:\n",
    "# - Use `isnull()` to detect missing values.\n",
    "# - Use `fillna()` to replace missing values.\n",
    "# - Use `dropna()` to drop rows with missing values."
   ]
  },
  {
   "cell_type": "code",
   "execution_count": 44,
   "metadata": {},
   "outputs": [],
   "source": [
    "# 5. Drop any rows where the \"Salary\" value is missing.\n",
    "df.dropna(subset=['Salary'], inplace=True)"
   ]
  },
  {
   "cell_type": "code",
   "execution_count": 45,
   "metadata": {},
   "outputs": [
    {
     "name": "stdout",
     "output_type": "stream",
     "text": [
      "   Name        Age             Job   Salary\n",
      "0  John  28.000000      Programmer  58000.0\n",
      "1   Eva  27.666667         Analyst  64000.0\n",
      "2  Adam  30.000000         Unknown  72000.0\n",
      "4  Mark  27.666667  Data Scientist  71000.0\n"
     ]
    }
   ],
   "source": [
    "# 6. Print the cleaned DataFrame.\n",
    "print(df)"
   ]
  },
  {
   "cell_type": "code",
   "execution_count": 46,
   "metadata": {},
   "outputs": [
    {
     "name": "stdout",
     "output_type": "stream",
     "text": [
      "66250.0\n"
     ]
    }
   ],
   "source": [
    "# Bonus task:\n",
    "# After cleaning the data, calculate the average salary of all employees.\n",
    "avg_salary = df['Salary'].mean()\n",
    "print(avg_salary)\n"
   ]
  }
 ],
 "metadata": {
  "kernelspec": {
   "display_name": "base",
   "language": "python",
   "name": "python3"
  },
  "language_info": {
   "codemirror_mode": {
    "name": "ipython",
    "version": 3
   },
   "file_extension": ".py",
   "mimetype": "text/x-python",
   "name": "python",
   "nbconvert_exporter": "python",
   "pygments_lexer": "ipython3",
   "version": "3.8.20"
  }
 },
 "nbformat": 4,
 "nbformat_minor": 2
}
