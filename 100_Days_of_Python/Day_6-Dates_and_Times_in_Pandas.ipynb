{
 "cells": [
  {
   "cell_type": "code",
   "execution_count": null,
   "metadata": {},
   "outputs": [],
   "source": [
    "# Day 6: Working with Dates and Times in Pandas\n",
    "\n",
    "# Task:\n",
    "# You will work with a DataFrame containing employee information, including hire dates.\n",
    "# Your task is to manipulate and analyze the date data.\n",
    "\n",
    "# Here is the data you will work with:\n",
    "\n",
    "# | Name  | Job              | Hire Date  | Salary |\n",
    "# |-------|------------------|------------|--------|\n",
    "# | John  | Programmer       | 2015-06-01 | 58000  |\n",
    "# | Eva   | Analyst          | 2018-07-15 | 64000  |\n",
    "# | Adam  | Data Scientist   | 2020-03-22 | 72000  |\n",
    "# | Petra | Data Engineer    | 2017-09-10 | 69000  |\n",
    "# | Mark  | Data Scientist   | 2019-01-30 | 71000  |\n",
    "\n",
    "# Tasks:\n",
    "# 1. Load the DataFrame with the given data.\n",
    "# 2. Convert the 'Hire Date' column to datetime format.\n",
    "# 3. Create a new column 'Years of Service' that shows how many full years each employee has worked (from hire date to the current date).\n",
    "# 4. Filter the DataFrame to show only employees who have worked for more than 5 years.\n",
    "# 5. Print the final DataFrame with the 'Years of Service' column.\n",
    "\n",
    "# Tips:\n",
    "# - Use `pd.to_datetime()` to convert the 'Hire Date' column to datetime format.\n",
    "# - Use `datetime.now()` to get the current date and calculate the difference in years.\n",
    "# - Use `dt.year` or similar functions to manipulate datetime data.\n",
    "# - Filter the DataFrame using conditions like `df['Years of Service'] > 5`.\n",
    "\n",
    "# Bonus Task:\n",
    "# Find the employee who has worked for the longest time and print their name along with their job title.\n"
   ]
  },
  {
   "cell_type": "code",
   "execution_count": 4,
   "metadata": {},
   "outputs": [],
   "source": [
    "# Import libraries\n",
    "import pandas as pd\n",
    "from pandas.core.computation.check import NUMEXPR_INSTALLED"
   ]
  },
  {
   "cell_type": "code",
   "execution_count": 5,
   "metadata": {},
   "outputs": [],
   "source": [
    "# Task: 1. Load the DataFrame with the given data.\n",
    "# Data for the DataFrame\n",
    "data = {\n",
    "    'Name': ['John', 'Eva', 'Adam', 'Petra', 'Mark'],\n",
    "    'Job': ['Programmer', 'Analyst', 'Data Scientist' , 'Data Engineer', 'Data Scientist'],\n",
    "    'Hire Date' : ['2015-06-01', '2018-07-15', '2020-03-22', '2017-09-10', '2019-01-30'],\n",
    "    'Salary': [58000, 64000, 72000, 69000 , 71000]\n",
    "}\n",
    "\n",
    "# Creating the DataFrame\n",
    "df = pd.DataFrame(data)"
   ]
  },
  {
   "cell_type": "code",
   "execution_count": 11,
   "metadata": {},
   "outputs": [
    {
     "name": "stdout",
     "output_type": "stream",
     "text": [
      "0   2015-06-01\n",
      "1   2018-07-15\n",
      "2   2020-03-22\n",
      "3   2017-09-10\n",
      "4   2019-01-30\n",
      "Name: Hire Date, dtype: datetime64[ns]\n"
     ]
    }
   ],
   "source": [
    "# Task: 2. Convert the 'Hire Date' column to datetime format.\n",
    "converted_df = pd.to_datetime(df['Hire Date'])\n",
    "print(converted_df)"
   ]
  },
  {
   "cell_type": "code",
   "execution_count": 20,
   "metadata": {},
   "outputs": [
    {
     "name": "stdout",
     "output_type": "stream",
     "text": [
      "    Name  Hire Date  Years of Work\n",
      "0   John 2015-06-01              9\n",
      "1    Eva 2018-07-15              6\n",
      "2   Adam 2020-03-22              4\n",
      "3  Petra 2017-09-10              7\n",
      "4   Mark 2019-01-30              5\n"
     ]
    }
   ],
   "source": [
    "# Task: 3. Create a new column 'Years of Service' that shows how many full years each employee has worked (from hire date to the current date).\n",
    "from datetime import datetime\n",
    "\n",
    "# Number of years worked\n",
    "current_date = datetime.now()\n",
    "#print(current_date)\n",
    "\n",
    "# Convert to datetime\n",
    "df['Hire Date'] = pd.to_datetime(df['Hire Date'])\n",
    "\n",
    "# New column\n",
    "df['Years of Work'] =  (current_date - df['Hire Date']).dt.days // 365\n",
    "\n",
    "# PRint\n",
    "print(df[['Name', 'Hire Date', 'Years of Work']])\n",
    "\n",
    "#years_worked = datetime.now()df['Hire Date'])\n",
    "#print(years_worked)\n"
   ]
  },
  {
   "cell_type": "code",
   "execution_count": 21,
   "metadata": {},
   "outputs": [
    {
     "name": "stdout",
     "output_type": "stream",
     "text": [
      "    Name            Job  Hire Date  Salary  Years of Work\n",
      "0   John     Programmer 2015-06-01   58000              9\n",
      "1    Eva        Analyst 2018-07-15   64000              6\n",
      "3  Petra  Data Engineer 2017-09-10   69000              7\n"
     ]
    }
   ],
   "source": [
    "# Task: 4. Filter the DataFrame to show only employees who have worked for more than 5 years.\n",
    "filtered_df = df[df['Years of Work'] > 5]"
   ]
  },
  {
   "cell_type": "code",
   "execution_count": 22,
   "metadata": {},
   "outputs": [
    {
     "name": "stdout",
     "output_type": "stream",
     "text": [
      "    Name            Job  Hire Date  Salary  Years of Work\n",
      "0   John     Programmer 2015-06-01   58000              9\n",
      "1    Eva        Analyst 2018-07-15   64000              6\n",
      "3  Petra  Data Engineer 2017-09-10   69000              7\n"
     ]
    }
   ],
   "source": [
    "# Task: 5. Print the final DataFrame with the 'Years of Service' column.\n",
    "final_df = filtered_df\n",
    "print(final_df)"
   ]
  }
 ],
 "metadata": {
  "kernelspec": {
   "display_name": "base",
   "language": "python",
   "name": "python3"
  },
  "language_info": {
   "codemirror_mode": {
    "name": "ipython",
    "version": 3
   },
   "file_extension": ".py",
   "mimetype": "text/x-python",
   "name": "python",
   "nbconvert_exporter": "python",
   "pygments_lexer": "ipython3",
   "version": "3.8.20"
  }
 },
 "nbformat": 4,
 "nbformat_minor": 2
}
