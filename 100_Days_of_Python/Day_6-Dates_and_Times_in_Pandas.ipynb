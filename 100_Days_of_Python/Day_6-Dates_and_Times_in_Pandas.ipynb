{
 "cells": [
  {
   "cell_type": "code",
   "execution_count": null,
   "metadata": {
    "vscode": {
     "languageId": "plaintext"
    }
   },
   "outputs": [],
   "source": [
    "# Day 6: Working with Dates and Times in Pandas\n",
    "\n",
    "# Task:\n",
    "# You will work with a DataFrame containing employee information, including hire dates.\n",
    "# Your task is to manipulate and analyze the date data.\n",
    "\n",
    "# Here is the data you will work with:\n",
    "\n",
    "# | Name  | Job              | Hire Date  | Salary |\n",
    "# |-------|------------------|------------|--------|\n",
    "# | John  | Programmer       | 2015-06-01 | 58000  |\n",
    "# | Eva   | Analyst          | 2018-07-15 | 64000  |\n",
    "# | Adam  | Data Scientist   | 2020-03-22 | 72000  |\n",
    "# | Petra | Data Engineer    | 2017-09-10 | 69000  |\n",
    "# | Mark  | Data Scientist   | 2019-01-30 | 71000  |\n",
    "\n",
    "# Tasks:\n",
    "# 1. Load the DataFrame with the given data.\n",
    "# 2. Convert the 'Hire Date' column to datetime format.\n",
    "# 3. Create a new column 'Years of Service' that shows how many full years each employee has worked (from hire date to the current date).\n",
    "# 4. Filter the DataFrame to show only employees who have worked for more than 5 years.\n",
    "# 5. Print the final DataFrame with the 'Years of Service' column.\n",
    "\n",
    "# Tips:\n",
    "# - Use `pd.to_datetime()` to convert the 'Hire Date' column to datetime format.\n",
    "# - Use `datetime.now()` to get the current date and calculate the difference in years.\n",
    "# - Use `dt.year` or similar functions to manipulate datetime data.\n",
    "# - Filter the DataFrame using conditions like `df['Years of Service'] > 5`.\n",
    "\n",
    "# Bonus Task:\n",
    "# Find the employee who has worked for the longest time and print their name along with their job title.\n"
   ]
  },
  {
   "cell_type": "code",
   "execution_count": null,
   "metadata": {
    "vscode": {
     "languageId": "plaintext"
    }
   },
   "outputs": [],
   "source": [
    "# Task: 1. Load the DataFrame with the given data."
   ]
  },
  {
   "cell_type": "code",
   "execution_count": null,
   "metadata": {
    "vscode": {
     "languageId": "plaintext"
    }
   },
   "outputs": [],
   "source": [
    "# Task: 2. Convert the 'Hire Date' column to datetime format.\n"
   ]
  },
  {
   "cell_type": "code",
   "execution_count": null,
   "metadata": {
    "vscode": {
     "languageId": "plaintext"
    }
   },
   "outputs": [],
   "source": [
    "# Task: 3. Create a new column 'Years of Service' that shows how many full years each employee has worked (from hire date to the current date).\n"
   ]
  },
  {
   "cell_type": "code",
   "execution_count": null,
   "metadata": {
    "vscode": {
     "languageId": "plaintext"
    }
   },
   "outputs": [],
   "source": [
    "# Task: 4. Filter the DataFrame to show only employees who have worked for more than 5 years.\n"
   ]
  },
  {
   "cell_type": "code",
   "execution_count": null,
   "metadata": {
    "vscode": {
     "languageId": "plaintext"
    }
   },
   "outputs": [],
   "source": [
    "# Task: 5. Print the final DataFrame with the 'Years of Service' column.\n"
   ]
  }
 ],
 "metadata": {
  "language_info": {
   "name": "python"
  }
 },
 "nbformat": 4,
 "nbformat_minor": 2
}
