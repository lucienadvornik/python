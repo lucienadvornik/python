{
 "cells": [
  {
   "cell_type": "code",
   "execution_count": null,
   "metadata": {
    "vscode": {
     "languageId": "plaintext"
    }
   },
   "outputs": [],
   "source": [
    "# Day 9: Handling Categorical Data in Pandas\n",
    "\n",
    "# Task:\n",
    "# You will work with a DataFrame containing employee information and their job roles.\n",
    "# Your task is to handle categorical data and perform encoding of job roles.\n",
    "\n",
    "# Here is the data you will work with:\n",
    "\n",
    "# | Name  | Job              | Salary | Department   |\n",
    "# |-------|------------------|--------|--------------|\n",
    "# | John  | Programmer       | 58000  | IT           |\n",
    "# | Eva   | Analyst          | 64000  | Finance      |\n",
    "# | Adam  | Data Scientist   | 72000  | Data Science |\n",
    "# | Petra | Data Engineer    | 69000  | IT           |\n",
    "# | Mark  | Data Scientist   | 71000  | Data Science |\n",
    "# | Alex  | Data Analyst      | 62000  | Finance      |\n",
    "\n",
    "# Tasks:\n",
    "# 1. Load the DataFrame with the above data.\n",
    "# 2. Convert the 'Job' column into a categorical data type.\n",
    "# 3. Encode the 'Job' column using one-hot encoding and create new columns for each job role.\n",
    "# 4. Create a new DataFrame that includes only the original columns and the new one-hot encoded columns.\n",
    "# 5. Print the updated DataFrame.\n",
    "\n",
    "# Tips:\n",
    "# - Use `astype('category')` to convert the 'Job' column to categorical type.\n",
    "# - Use `pd.get_dummies()` to apply one-hot encoding.\n",
    "\n",
    "# Bonus task:\n",
    "# Find out how many employees belong to each job role using the one-hot encoded columns.\n"
   ]
  }
 ],
 "metadata": {
  "language_info": {
   "name": "python"
  }
 },
 "nbformat": 4,
 "nbformat_minor": 2
}
