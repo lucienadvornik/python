{
 "cells": [
  {
   "cell_type": "code",
   "execution_count": null,
   "metadata": {},
   "outputs": [],
   "source": [
    "# Day 4: Working with Grouping and Aggregation in Pandas\n",
    "\n",
    "# Task:\n",
    "# You will work with a DataFrame containing employee data, and your task is to perform grouping and aggregation operations.\n",
    "\n",
    "# Here is the data you will work with:\n",
    "\n",
    "# | Name  | Age | Job              | Salary |\n",
    "# |-------|-----|------------------|--------|\n",
    "# | John  | 28  | Programmer       | 58000  |\n",
    "# | Eva   | 34  | Analyst          | 64000  |\n",
    "# | Adam  | 30  | Data Scientist   | 72000  |\n",
    "# | Petra | 25  | Data Engineer    | 69000  |\n",
    "# | Mark  | 29  | Data Scientist   | 71000  |\n",
    "# | Lucy  | 35  | Programmer       | 60000  |\n",
    "# | Mike  | 32  | Data Scientist   | 75000  |\n",
    "\n",
    "# Tasks:\n",
    "# 1. Group the employees by their \"Job\" titles.\n",
    "# 2. Calculate the average salary for each job title.\n",
    "# 3. Count how many employees are in each job category.\n",
    "# 4. Print the grouped DataFrame, showing both the average salary and employee count for each job.\n",
    "\n",
    "# Tips:\n",
    "# - Use `groupby()` to group data by a specific column.\n",
    "# - Use `agg()` to perform multiple aggregation functions.\n",
    "# - Use `size()` to count the number of employees in each group.\n",
    "\n",
    "# Bonus task:\n",
    "# Find the job title with the highest average salary and print it.\n"
   ]
  },
  {
   "cell_type": "code",
   "execution_count": 3,
   "metadata": {},
   "outputs": [],
   "source": [
    "# import libraries\n",
    "import pandas as pd\n",
    "from pandas.core.computation.check import NUMEXPR_INSTALLED"
   ]
  },
  {
   "cell_type": "code",
   "execution_count": 14,
   "metadata": {},
   "outputs": [
    {
     "name": "stdout",
     "output_type": "stream",
     "text": [
      "    Name  Age             Job  Salary\n",
      "0   John   28      Programmer   58000\n",
      "1    Eva   34         Analyst   64000\n",
      "2   Adam   30  Data Scientist   72000\n",
      "3  Petra   25   Data Engineer   69000\n",
      "4   Mark   29  Data Scientist   71000\n",
      "5   Lucy   35      Programmer   60000\n",
      "6   Mike   32  Data Scientist   75000\n"
     ]
    }
   ],
   "source": [
    "# Data for the DataFrame\n",
    "data = {\n",
    "    'Name': ['John', 'Eva', 'Adam', 'Petra', 'Mark', 'Lucy', 'Mike'],\n",
    "    'Age': [28, 34 , 30, 25, 29, 35, 32 ],\n",
    "    'Job': ['Programmer', 'Analyst', 'Data Scientist' , 'Data Engineer', 'Data Scientist', 'Programmer', 'Data Scientist'],\n",
    "    'Salary': [58000, 64000, 72000, 69000 , 71000, 60000, 75000]\n",
    "}\n",
    "\n",
    "# Creating the DataFrame\n",
    "df = pd.DataFrame(data)\n",
    "#print(df)"
   ]
  },
  {
   "cell_type": "code",
   "execution_count": 15,
   "metadata": {},
   "outputs": [
    {
     "name": "stdout",
     "output_type": "stream",
     "text": [
      "<pandas.core.groupby.generic.DataFrameGroupBy object at 0x12f7e95e0>\n"
     ]
    }
   ],
   "source": [
    "# Task: 1. Group the employees by their \"Job\" titles.\n",
    "grouped_df = df.groupby('Job')\n",
    "print(grouped_df)"
   ]
  },
  {
   "cell_type": "code",
   "execution_count": 60,
   "metadata": {},
   "outputs": [
    {
     "name": "stdout",
     "output_type": "stream",
     "text": [
      "Job\n",
      "Analyst           64000.000000\n",
      "Data Engineer     69000.000000\n",
      "Data Scientist    72666.666667\n",
      "Programmer        59000.000000\n",
      "Name: Salary, dtype: float64\n",
      "Job\n",
      "Analyst           64000.000000\n",
      "Data Engineer     69000.000000\n",
      "Data Scientist    72666.666667\n",
      "Programmer        59000.000000\n",
      "Name: Salary, dtype: float64\n"
     ]
    }
   ],
   "source": [
    "# Task:  2. Calculate the average salary for each job title.\n",
    "average_job_salary = df.groupby('Job')['Salary'].mean()\n",
    "print(average_job_salary)\n",
    "\n",
    "average_salary_per_job = grouped['Salary'].mean() # second option\n",
    "print(average_salary_per_job)"
   ]
  },
  {
   "cell_type": "code",
   "execution_count": 20,
   "metadata": {},
   "outputs": [
    {
     "name": "stdout",
     "output_type": "stream",
     "text": [
      "Job\n",
      "Analyst           1\n",
      "Data Engineer     1\n",
      "Data Scientist    3\n",
      "Programmer        2\n",
      "Name: Name, dtype: int64\n",
      "\n",
      "Job\n",
      "Analyst           1\n",
      "Data Engineer     1\n",
      "Data Scientist    3\n",
      "Programmer        2\n",
      "dtype: int64\n"
     ]
    }
   ],
   "source": [
    "# Task: 3. Count how many employees are in each job category.\n",
    "sum_employees = df.groupby('Job')['Name'].count()\n",
    "sum_employees2 = df.groupby('Job').size() # second option\n",
    "print(sum_employees)\n",
    "print()\n",
    "print(sum_employees2)"
   ]
  },
  {
   "cell_type": "code",
   "execution_count": 71,
   "metadata": {},
   "outputs": [
    {
     "name": "stdout",
     "output_type": "stream",
     "text": [
      "<pandas.core.groupby.generic.DataFrameGroupBy object at 0x130329d30>\n",
      "                Average Salary  Employee Count\n",
      "Job                                           \n",
      "Analyst           64000.000000               1\n",
      "Data Engineer     69000.000000               1\n",
      "Data Scientist    72666.666667               3\n",
      "Programmer        59000.000000               2\n"
     ]
    }
   ],
   "source": [
    "# Task: 4. Print the grouped DataFrame, showing both the average salary and employee count for each job.\n",
    "\n",
    "# 1. group the df\n",
    "grouped = df.groupby('Job') # df grouped by job\n",
    "print(grouped)\n",
    "\n",
    "# create average salary and employee count on job level\n",
    "average_salary_and_employee_count = grouped['Salary'].agg(['mean', 'count']) # both mean and count on grouped df\n",
    "average_salary_and_employee_count.columns = ['Average Salary', 'Employee Count'] # renaming columns of the df\n",
    "\n",
    "print(average_salary_and_employee_count)"
   ]
  },
  {
   "cell_type": "code",
   "execution_count": 58,
   "metadata": {},
   "outputs": [
    {
     "name": "stdout",
     "output_type": "stream",
     "text": [
      "Average job salary:\n",
      "              Job  Average Salary\n",
      "0         Analyst    64000.000000\n",
      "1   Data Engineer    69000.000000\n",
      "2  Data Scientist    72666.666667\n",
      "3      Programmer    59000.000000\n",
      "\n",
      "Highest salary: Data Scientist\n",
      "\n",
      "Top 5 employees with highes salaries:\n",
      "    Name  Age             Job  Salary\n",
      "6   Mike   32  Data Scientist   75000\n",
      "2   Adam   30  Data Scientist   72000\n",
      "4   Mark   29  Data Scientist   71000\n",
      "3  Petra   25   Data Engineer   69000\n",
      "1    Eva   34         Analyst   64000\n"
     ]
    }
   ],
   "source": [
    "# Bonus task:\n",
    "# Find the job title with the highest average salary and print it.\n",
    "# Get top 5 employees with the highest salaries\n",
    "# Add titles and column name for average salary\n",
    "\n",
    "# part1a: avg salary grouped by job \n",
    "avg_salary_per_job = df.groupby('Job')['Salary'].mean()\n",
    "avg_salary_per_job_df = avg_salary_per_job.reset_index() # Convert to DataFrame\n",
    "avg_salary_per_job_df.columns = ['Job', 'Average Salary'] # Rename columns\n",
    "print('Average job salary:')\n",
    "print(avg_salary_per_job_df)\n",
    "print()\n",
    "\n",
    "# part1b: highest avg salary\n",
    "highest_salary_job = avg_salary_per_job.idxmax()\n",
    "print('Highest salary:', highest_salary_job)\n",
    "print()\n",
    "\n",
    "# part 2: Top 5 employees with the highest salaries\n",
    "# Print the top 5\n",
    "top_5_salaries = df.nlargest(5, 'Salary')\n",
    "print('Top 5 employees with highes salaries:')\n",
    "print(top_5_salaries)\n"
   ]
  }
 ],
 "metadata": {
  "kernelspec": {
   "display_name": "base",
   "language": "python",
   "name": "python3"
  },
  "language_info": {
   "codemirror_mode": {
    "name": "ipython",
    "version": 3
   },
   "file_extension": ".py",
   "mimetype": "text/x-python",
   "name": "python",
   "nbconvert_exporter": "python",
   "pygments_lexer": "ipython3",
   "version": "3.8.20"
  }
 },
 "nbformat": 4,
 "nbformat_minor": 2
}
