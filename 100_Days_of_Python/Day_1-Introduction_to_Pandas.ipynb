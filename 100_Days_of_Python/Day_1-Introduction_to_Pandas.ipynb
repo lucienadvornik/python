{
 "cells": [
  {
   "cell_type": "code",
   "execution_count": null,
   "metadata": {},
   "outputs": [],
   "source": [
    "#### 100 DAYS OF PYTHON #### \n",
    "# Day 1: Introduction to Pandas – Basic DataFrame Operations\n",
    "\n",
    "# Task:\n",
    "# Create a Pandas DataFrame from the following data:\n",
    "\n",
    "# | Name  | Age | Job              | Salary |\n",
    "# |-------|-----|------------------|--------|\n",
    "# | John  | 28  | Programmer       | 58000  |\n",
    "# | Eva   | 34  | Analyst          | 64000  |\n",
    "# | Adam  | 30  | Data Scientist   | 72000  |\n",
    "# | Petra | 25  | Data Engineer    | 69000  |\n",
    "\n",
    "# Tasks:\n",
    "# 1. Print the first 5 rows of the DataFrame.\n",
    "# 2. Sort the DataFrame by salary in descending order.\n",
    "# 3. Create a new column called \"Bonus,\" which is 10% of each employee’s salary.\n",
    "# 4. Print only the columns \"Name\" and \"Salary.\"\n",
    "# 5. Save the DataFrame to a CSV file.\n",
    "\n",
    "# Tips:\n",
    "# - Use the `pandas` library to manipulate the data.\n",
    "# - You can save the CSV file using the `to_csv()` function.\n",
    "\n",
    "# Bonus task:\n",
    "# Find out how many employees have a salary higher than 60,000.\n",
    "\n",
    "######"
   ]
  },
  {
   "cell_type": "code",
   "execution_count": 17,
   "metadata": {},
   "outputs": [],
   "source": [
    "import pandas as pd\n",
    "from pandas.core.computation.check import NUMEXPR_INSTALLED"
   ]
  },
  {
   "cell_type": "code",
   "execution_count": 18,
   "metadata": {},
   "outputs": [],
   "source": [
    "# Data for the DataFrame\n",
    "data = {\n",
    "    'Name': ['John', 'Eva', 'Adam', 'Petra'],\n",
    "    'Age': [28, 34, 30, 25],\n",
    "    'Job': ['Programmer', 'Analyst', 'Data Scientist', 'Data Engineer'],\n",
    "    'Salary': [58000, 64000, 72000, 69000]\n",
    "}\n"
   ]
  },
  {
   "cell_type": "code",
   "execution_count": 19,
   "metadata": {},
   "outputs": [],
   "source": [
    "# Creating the DataFrame\n",
    "df = pd.DataFrame(data)\n",
    "\n"
   ]
  },
  {
   "cell_type": "code",
   "execution_count": 20,
   "metadata": {},
   "outputs": [
    {
     "name": "stdout",
     "output_type": "stream",
     "text": [
      "    Name  Age             Job  Salary\n",
      "0   John   28      Programmer   58000\n",
      "1    Eva   34         Analyst   64000\n",
      "2   Adam   30  Data Scientist   72000\n",
      "3  Petra   25   Data Engineer   69000\n"
     ]
    }
   ],
   "source": [
    "# Task: 1. Print the first 5 rows of the DataFrame.\n",
    "print(df.head())\n"
   ]
  },
  {
   "cell_type": "code",
   "execution_count": 52,
   "metadata": {},
   "outputs": [
    {
     "name": "stdout",
     "output_type": "stream",
     "text": [
      "    Name  Age             Job  Salary   Bonus\n",
      "2   Adam   30  Data Scientist   72000  7200.0\n",
      "3  Petra   25   Data Engineer   69000  6900.0\n",
      "1    Eva   34         Analyst   64000  6400.0\n",
      "0   John   28      Programmer   58000  5800.0\n"
     ]
    }
   ],
   "source": [
    "# Task: 2. Sort the DataFrame by salary in descending order.\n",
    "#df.sort_values(ascending=False) # Descending\n",
    "df_sorted = df.sort_values(by='Salary', ascending=False)\n",
    "print(df_sorted)"
   ]
  },
  {
   "cell_type": "code",
   "execution_count": 32,
   "metadata": {},
   "outputs": [
    {
     "name": "stdout",
     "output_type": "stream",
     "text": [
      "    Name  Age             Job  Salary   Bonus\n",
      "0   John   28      Programmer   58000  5800.0\n",
      "1    Eva   34         Analyst   64000  6400.0\n",
      "2   Adam   30  Data Scientist   72000  7200.0\n",
      "3  Petra   25   Data Engineer   69000  6900.0\n"
     ]
    }
   ],
   "source": [
    "# Task: 3. Create a new column called \"Bonus,\" which is 10% of each employee’s salary.\n",
    "df['Bonus'] = df['Salary'] * 0.1\n",
    "print(df)"
   ]
  },
  {
   "cell_type": "code",
   "execution_count": 34,
   "metadata": {},
   "outputs": [
    {
     "name": "stdout",
     "output_type": "stream",
     "text": [
      "    Name  Salary\n",
      "0   John   58000\n",
      "1    Eva   64000\n",
      "2   Adam   72000\n",
      "3  Petra   69000\n"
     ]
    }
   ],
   "source": [
    "# Task: 4. Print only the columns \"Name\" and \"Salary.\"\n",
    "print(df[['Name','Salary']]) # list of columns"
   ]
  },
  {
   "cell_type": "code",
   "execution_count": 38,
   "metadata": {},
   "outputs": [
    {
     "name": "stdout",
     "output_type": "stream",
     "text": [
      "    Name  Age             Job  Salary   Bonus\n",
      "0   John   28      Programmer   58000  5800.0\n",
      "1    Eva   34         Analyst   64000  6400.0\n",
      "2   Adam   30  Data Scientist   72000  7200.0\n",
      "3  Petra   25   Data Engineer   69000  6900.0\n"
     ]
    }
   ],
   "source": [
    "# Task: 5. Save the DataFrame to a CSV file.\n",
    "# df.to_csv('employees.csv', index=False) # without index column\n",
    "print(df)"
   ]
  },
  {
   "cell_type": "code",
   "execution_count": 51,
   "metadata": {},
   "outputs": [
    {
     "name": "stdout",
     "output_type": "stream",
     "text": [
      "3\n"
     ]
    }
   ],
   "source": [
    "# Bonus task:\n",
    "# Find out how many employees have a salary higher than 60,000.\n",
    "high_salary = df[df['Salary'] > 60000].shape[0] # .shape gives tuple with count of rows and columns, [0] = rows\n",
    "print(high_salary)"
   ]
  }
 ],
 "metadata": {
  "kernelspec": {
   "display_name": "base",
   "language": "python",
   "name": "python3"
  },
  "language_info": {
   "codemirror_mode": {
    "name": "ipython",
    "version": 3
   },
   "file_extension": ".py",
   "mimetype": "text/x-python",
   "name": "python",
   "nbconvert_exporter": "python",
   "pygments_lexer": "ipython3",
   "version": "3.8.20"
  },
  "orig_nbformat": 4
 },
 "nbformat": 4,
 "nbformat_minor": 2
}
