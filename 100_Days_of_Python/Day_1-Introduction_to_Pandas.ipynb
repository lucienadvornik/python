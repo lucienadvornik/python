{
 "cells": [
  {
   "cell_type": "code",
   "execution_count": null,
   "metadata": {},
   "outputs": [],
   "source": [
    "# Day 1: Introduction to Pandas – Basic DataFrame Operations\n",
    "\n",
    "# Task:\n",
    "# Create a Pandas DataFrame from the following data:\n",
    "\n",
    "# | Name  | Age | Job              | Salary |\n",
    "# |-------|-----|------------------|--------|\n",
    "# | John  | 28  | Programmer       | 58000  |\n",
    "# | Eva   | 34  | Analyst          | 64000  |\n",
    "# | Adam  | 30  | Data Scientist   | 72000  |\n",
    "# | Petra | 25  | Data Engineer    | 69000  |\n",
    "\n",
    "# Tasks:\n",
    "# 1. Print the first 5 rows of the DataFrame.\n",
    "# 2. Sort the DataFrame by salary in descending order.\n",
    "# 3. Create a new column called \"Bonus,\" which is 10% of each employee’s salary.\n",
    "# 4. Print only the columns \"Name\" and \"Salary.\"\n",
    "# 5. Save the DataFrame to a CSV file.\n",
    "\n",
    "# Tips:\n",
    "# - Use the `pandas` library to manipulate the data.\n",
    "# - You can save the CSV file using the `to_csv()` function.\n",
    "\n",
    "# Bonus task:\n",
    "# Find out how many employees have a salary higher than 60,000.\n",
    "\n",
    "######"
   ]
  },
  {
   "cell_type": "code",
   "execution_count": 2,
   "metadata": {},
   "outputs": [],
   "source": [
    "import pandas as pd\n",
    "from pandas.core.computation.check import NUMEXPR_INSTALLED"
   ]
  },
  {
   "cell_type": "code",
   "execution_count": 3,
   "metadata": {},
   "outputs": [],
   "source": [
    "# Data for the DataFrame\n",
    "data = {\n",
    "    'Name': ['John', 'Eva', 'Adam', 'Petra'],\n",
    "    'Age': [28, 34, 30, 25],\n",
    "    'Job': ['Programmer', 'Analyst', 'Data Scientist', 'Data Engineer'],\n",
    "    'Salary': [58000, 64000, 72000, 69000]\n",
    "}\n"
   ]
  },
  {
   "cell_type": "code",
   "execution_count": 4,
   "metadata": {},
   "outputs": [],
   "source": [
    "# Creating the DataFrame\n",
    "df = pd.DataFrame(data)\n",
    "\n"
   ]
  },
  {
   "cell_type": "code",
   "execution_count": 5,
   "metadata": {},
   "outputs": [
    {
     "name": "stdout",
     "output_type": "stream",
     "text": [
      "    Name  Age             Job  Salary\n",
      "0   John   28      Programmer   58000\n",
      "1    Eva   34         Analyst   64000\n",
      "2   Adam   30  Data Scientist   72000\n",
      "3  Petra   25   Data Engineer   69000\n"
     ]
    }
   ],
   "source": [
    "# Task: 1. Print the first 5 rows of the DataFrame.\n",
    "print(df.head())\n"
   ]
  },
  {
   "cell_type": "code",
   "execution_count": 14,
   "metadata": {},
   "outputs": [
    {
     "data": {
      "text/html": [
       "<div>\n",
       "<style scoped>\n",
       "    .dataframe tbody tr th:only-of-type {\n",
       "        vertical-align: middle;\n",
       "    }\n",
       "\n",
       "    .dataframe tbody tr th {\n",
       "        vertical-align: top;\n",
       "    }\n",
       "\n",
       "    .dataframe thead th {\n",
       "        text-align: right;\n",
       "    }\n",
       "</style>\n",
       "<table border=\"1\" class=\"dataframe\">\n",
       "  <thead>\n",
       "    <tr style=\"text-align: right;\">\n",
       "      <th></th>\n",
       "      <th>Name</th>\n",
       "      <th>Age</th>\n",
       "      <th>Job</th>\n",
       "      <th>Salary</th>\n",
       "    </tr>\n",
       "  </thead>\n",
       "  <tbody>\n",
       "    <tr>\n",
       "      <th>3</th>\n",
       "      <td>Petra</td>\n",
       "      <td>25</td>\n",
       "      <td>Data Engineer</td>\n",
       "      <td>69000</td>\n",
       "    </tr>\n",
       "    <tr>\n",
       "      <th>0</th>\n",
       "      <td>John</td>\n",
       "      <td>28</td>\n",
       "      <td>Programmer</td>\n",
       "      <td>58000</td>\n",
       "    </tr>\n",
       "    <tr>\n",
       "      <th>1</th>\n",
       "      <td>Eva</td>\n",
       "      <td>34</td>\n",
       "      <td>Analyst</td>\n",
       "      <td>64000</td>\n",
       "    </tr>\n",
       "    <tr>\n",
       "      <th>2</th>\n",
       "      <td>Adam</td>\n",
       "      <td>30</td>\n",
       "      <td>Data Scientist</td>\n",
       "      <td>72000</td>\n",
       "    </tr>\n",
       "  </tbody>\n",
       "</table>\n",
       "</div>"
      ],
      "text/plain": [
       "    Name  Age             Job  Salary\n",
       "3  Petra   25   Data Engineer   69000\n",
       "0   John   28      Programmer   58000\n",
       "1    Eva   34         Analyst   64000\n",
       "2   Adam   30  Data Scientist   72000"
      ]
     },
     "execution_count": 14,
     "metadata": {},
     "output_type": "execute_result"
    }
   ],
   "source": [
    "# Task: 2. Sort the DataFrame by salary in descending order.\n",
    "#df.sort_values(ascending=False) # Descending\n",
    "df.sort_values(by='Name', ascending=False)\n"
   ]
  },
  {
   "cell_type": "code",
   "execution_count": null,
   "metadata": {},
   "outputs": [],
   "source": [
    "# Task: 3. Create a new column called \"Bonus,\" which is 10% of each employee’s salary.\n"
   ]
  },
  {
   "cell_type": "code",
   "execution_count": null,
   "metadata": {},
   "outputs": [],
   "source": [
    "# Task: 4. Print only the columns \"Name\" and \"Salary.\"\n",
    "\n",
    "\n"
   ]
  },
  {
   "cell_type": "code",
   "execution_count": null,
   "metadata": {},
   "outputs": [],
   "source": [
    "# Task: 5. Save the DataFrame to a CSV file.\n"
   ]
  }
 ],
 "metadata": {
  "kernelspec": {
   "display_name": "base",
   "language": "python",
   "name": "python3"
  },
  "language_info": {
   "codemirror_mode": {
    "name": "ipython",
    "version": 3
   },
   "file_extension": ".py",
   "mimetype": "text/x-python",
   "name": "python",
   "nbconvert_exporter": "python",
   "pygments_lexer": "ipython3",
   "version": "3.8.20"
  },
  "orig_nbformat": 4
 },
 "nbformat": 4,
 "nbformat_minor": 2
}
